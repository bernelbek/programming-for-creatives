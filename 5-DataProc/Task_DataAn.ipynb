{
  "nbformat": 4,
  "nbformat_minor": 0,
  "metadata": {
    "colab": {
      "provenance": []
    },
    "kernelspec": {
      "name": "python3",
      "display_name": "Python 3"
    },
    "language_info": {
      "name": "python"
    }
  },
  "cells": [
    {
      "cell_type": "markdown",
      "source": [
        "## Задание по анализу данных и визуализации\n",
        "\n",
        "Этапы работы:\n",
        "- Выбрать данные, которые вам интересны, предпочтительно в табличной форме (Excel, CSV)\n",
        "- С помощью Pandas провести какой-то анализ данных и визуализацию\n",
        "- По возможности стилизовать визуализацию, чтобы получить некоторую консистентную инфографику в оригинальном стиле\n",
        "\n",
        "### Выбор данных\n",
        "\n",
        "Рекомендумые ресурсы для поиска данных:\n",
        "* [Список от Yandex](https://yandex.ru/project/oda/useful)\n",
        "* [Kaggle](http://Kaggle.com) – сайт соревований для датасайнтистов. Там же можно искать код\n",
        "* Открытые данные:\n",
        "  - ищите в интернете по этим ключевым словам\n",
        "  - https://data.world/datasets/open-data\n",
        "* Различные текстовые данные, из которых можно извлечь что-то интересное:\n",
        "  - Видео на YouTube, у которых есть субтитры, или которые можно преобразовать в текст (см. пример)\n",
        "  - Библиотеки книг: [lib.ru](http://lib.ru), [Project Gutenberg](https://www.gutenberg.org/) и др.\n",
        "* Статьи:\n",
        "  - [15 of the Best Free Open Data Sources for 2024](https://careerfoundry.com/en/blog/data-analytics/open-data-sources/)\n",
        "\n",
        "### Анализ данных\n",
        "\n",
        "Для анализа данных используем Pandas. Если вы не знаете, как сделать какую-то операцию:\n",
        "* Ищем в интернет (как правило, хорошие ответы находятся на сайте stackoverflow.com)\n",
        "* Спрашиваем [у ChatGPT](https://soshnikov.com/ai/how-to-use-chatgpt-ru/)"
      ],
      "metadata": {
        "id": "9dPKBh6A8GeX"
      }
    },
    {
      "cell_type": "code",
      "execution_count": 1,
      "metadata": {
        "id": "B--DBy218EP_"
      },
      "outputs": [],
      "source": [
        "import pandas as pd\n",
        "\n",
        "# df = pd.read_csv(...) # чтение файла CSV, иногда может потребоваться указать разделитель sep=';'\n",
        "# df = pd.read_excel('titanic.xlsx') # чтение файла Excel"
      ]
    },
    {
      "cell_type": "code",
      "source": [],
      "metadata": {
        "id": "BRhVlGE2_enV"
      },
      "execution_count": null,
      "outputs": []
    }
  ]
}