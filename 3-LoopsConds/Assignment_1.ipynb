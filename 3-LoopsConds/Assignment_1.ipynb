import jturtle as t

def poly(x,n):
  for _ in range(n):
    t.forward(x)
    t.right(360/n)

for i in range(36):
  poly(50,40)
  t.right(36)
t.done()
